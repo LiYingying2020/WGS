{
  "nbformat": 4,
  "nbformat_minor": 0,
  "metadata": {
    "colab": {
      "name": "Untitled1.ipynb",
      "provenance": [],
      "authorship_tag": "ABX9TyOIptc5kWVvOurpyy3QlK1T",
      "include_colab_link": true
    },
    "kernelspec": {
      "name": "python3",
      "display_name": "Python 3"
    }
  },
  "cells": [
    {
      "cell_type": "markdown",
      "metadata": {
        "id": "view-in-github",
        "colab_type": "text"
      },
      "source": [
        "<a href=\"https://colab.research.google.com/github/LiYingying2020/WGS/blob/master/For-loop-practise.ipynb\" target=\"_parent\"><img src=\"https://colab.research.google.com/assets/colab-badge.svg\" alt=\"Open In Colab\"/></a>"
      ]
    },
    {
      "cell_type": "code",
      "metadata": {
        "id": "TsD_ojSqWR2W",
        "colab_type": "code",
        "colab": {}
      },
      "source": [
        "import pandas as pd"
      ],
      "execution_count": 0,
      "outputs": []
    },
    {
      "cell_type": "code",
      "metadata": {
        "id": "EeB9EF_4TdMJ",
        "colab_type": "code",
        "colab": {
          "base_uri": "https://localhost:8080/",
          "height": 34
        },
        "outputId": "d9ca7389-2339-4046-93c5-328c50fc5144"
      },
      "source": [
        "# ex 1\n",
        "out = []\n",
        "for i in range (10):\n",
        "  out.append(i)\n",
        "out"
      ],
      "execution_count": 1,
      "outputs": [
        {
          "output_type": "execute_result",
          "data": {
            "text/plain": [
              "[0, 1, 2, 3, 4, 5, 6, 7, 8, 9]"
            ]
          },
          "metadata": {
            "tags": []
          },
          "execution_count": 1
        }
      ]
    },
    {
      "cell_type": "code",
      "metadata": {
        "id": "Iru_oGPlTw1E",
        "colab_type": "code",
        "colab": {
          "base_uri": "https://localhost:8080/",
          "height": 34
        },
        "outputId": "9017becd-f8f2-41c5-a36c-06209ac620fa"
      },
      "source": [
        "# ex 2\n",
        "def f2(x):\n",
        "  return x**2 - 5*x\n",
        "out = []\n",
        "for i in range (-10, 10):\n",
        "  out.append(f2(i))\n",
        "print(out)\n"
      ],
      "execution_count": 3,
      "outputs": [
        {
          "output_type": "stream",
          "text": [
            "[150, 126, 104, 84, 66, 50, 36, 24, 14, 6, 0, -4, -6, -6, -4, 0, 6, 14, 24, 36]\n"
          ],
          "name": "stdout"
        }
      ]
    },
    {
      "cell_type": "code",
      "metadata": {
        "id": "VMsKaGKEUNjI",
        "colab_type": "code",
        "colab": {
          "base_uri": "https://localhost:8080/",
          "height": 54
        },
        "outputId": "71162662-7794-47d3-da21-8408d0b6f5f4"
      },
      "source": [
        "#ex 3\n",
        "out = []\n",
        "for i in \"abcdefghijklmnopqrstuvwxyz\":\n",
        "  if i not in \"aeiou\":\n",
        "    out.append(i)\n",
        "print(out)"
      ],
      "execution_count": 7,
      "outputs": [
        {
          "output_type": "stream",
          "text": [
            "['b', 'c', 'd', 'f', 'g', 'h', 'j', 'k', 'l', 'm', 'n', 'p', 'q', 'r', 's', 't', 'v', 'w', 'x', 'y', 'z']\n"
          ],
          "name": "stdout"
        }
      ]
    },
    {
      "cell_type": "code",
      "metadata": {
        "id": "kZDIWGpsVluy",
        "colab_type": "code",
        "colab": {
          "base_uri": "https://localhost:8080/",
          "height": 119
        },
        "outputId": "88d6621b-da57-4684-fb07-e92a73b3f541"
      },
      "source": [
        "#ex 4\n",
        "out = {}\n",
        "for i,j in enumerate(\"abcdefghijklmnopqrstuvwxyz\", 1):\n",
        "  out[i] = j\n",
        "out = pd.Series(out)\n",
        "print(out.head())"
      ],
      "execution_count": 11,
      "outputs": [
        {
          "output_type": "stream",
          "text": [
            "1    a\n",
            "2    b\n",
            "3    c\n",
            "4    d\n",
            "5    e\n",
            "dtype: object\n"
          ],
          "name": "stdout"
        }
      ]
    },
    {
      "cell_type": "code",
      "metadata": {
        "id": "6s16WH8oWP_Y",
        "colab_type": "code",
        "colab": {
          "base_uri": "https://localhost:8080/",
          "height": 54
        },
        "outputId": "53a173c6-a4b6-4484-e6a5-b287dbf0f014"
      },
      "source": [
        "alph = 'abcdefghijklmnopqrstuvwxyz'\n",
        "vowels = 'aeiou'\n",
        "out2 = []\n",
        "out2 = [i for i in alph if i not in vowels]\n",
        "print(out2)"
      ],
      "execution_count": 12,
      "outputs": [
        {
          "output_type": "stream",
          "text": [
            "['b', 'c', 'd', 'f', 'g', 'h', 'j', 'k', 'l', 'm', 'n', 'p', 'q', 'r', 's', 't', 'v', 'w', 'x', 'y', 'z']\n"
          ],
          "name": "stdout"
        }
      ]
    },
    {
      "cell_type": "code",
      "metadata": {
        "id": "OhYLhxk5Xty6",
        "colab_type": "code",
        "colab": {
          "base_uri": "https://localhost:8080/",
          "height": 130
        },
        "outputId": "05854729-cd19-451f-f524-199b0e1b6691"
      },
      "source": [
        "out = [i + 100 for i in range(10) if i < 5 else i ] \n",
        "[i + 100 if i < 5 else i for i in range(10) ]"
      ],
      "execution_count": 14,
      "outputs": [
        {
          "output_type": "error",
          "ename": "SyntaxError",
          "evalue": "ignored",
          "traceback": [
            "\u001b[0;36m  File \u001b[0;32m\"<ipython-input-14-aa0427f84479>\"\u001b[0;36m, line \u001b[0;32m1\u001b[0m\n\u001b[0;31m    out = [i + 100 for i in range(10) if i < 5 else i ]\u001b[0m\n\u001b[0m                                                  ^\u001b[0m\n\u001b[0;31mSyntaxError\u001b[0m\u001b[0;31m:\u001b[0m invalid syntax\n"
          ]
        }
      ]
    }
  ]
}